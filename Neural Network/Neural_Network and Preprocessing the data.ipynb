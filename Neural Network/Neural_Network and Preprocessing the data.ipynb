{
 "cells": [
  {
   "cell_type": "code",
   "execution_count": null,
   "metadata": {},
   "outputs": [],
   "source": [
    "import nltk\n",
    "from nltk.tokenize import word_tokenize\n",
    "import numpy as np\n",
    "import random\n",
    "import pickle\n",
    "from collections import Counter\n",
    "from nltk.stem import WordNetLemmatizer\n",
    "\n",
    "lemmatizer = WordNetLemmatizer()\n",
    "hm_lines = 100000"
   ]
  },
  {
   "cell_type": "code",
   "execution_count": null,
   "metadata": {},
   "outputs": [],
   "source": [
    "def create_lexicon(pos,neg):\n",
    "\n",
    "\tlexicon = []\n",
    "\twith open(pos,'r') as f:\n",
    "\t\tcontents = f.readlines()\n",
    "\t\tfor l in contents[:hm_lines]:\n",
    "\t\t\tall_words = word_tokenize(l)\n",
    "\t\t\tlexicon += list(all_words)\n",
    "\n",
    "\twith open(neg,'r') as f:\n",
    "\t\tcontents = f.readlines()\n",
    "\t\tfor l in contents[:hm_lines]:\n",
    "\t\t\tall_words = word_tokenize(l)\n",
    "\t\t\tlexicon += list(all_words)\n",
    "\n",
    "\tlexicon = [lemmatizer.lemmatize(i) for i in lexicon]\n",
    "\tw_counts = Counter(lexicon)\n",
    "\tl2 = []\n",
    "\tfor w in w_counts:\n",
    "\t\t#print(w_counts[w])\n",
    "\t\tif 1000 > w_counts[w] > 50:\n",
    "\t\t\tl2.append(w)\n",
    "\tprint(len(l2))\n",
    "\treturn l2\n"
   ]
  },
  {
   "cell_type": "code",
   "execution_count": null,
   "metadata": {},
   "outputs": [],
   "source": [
    "def sample_handling(sample,lexicon,classification):\n",
    "\n",
    "\tfeatureset = []\n",
    "\n",
    "\twith open(sample,'r') as f:\n",
    "\t\tcontents = f.readlines()\n",
    "\t\tfor l in contents[:hm_lines]:\n",
    "\t\t\tcurrent_words = word_tokenize(l.lower())\n",
    "\t\t\tcurrent_words = [lemmatizer.lemmatize(i) for i in current_words]\n",
    "\t\t\tfeatures = np.zeros(len(lexicon))\n",
    "\t\t\tfor word in current_words:\n",
    "\t\t\t\tif word.lower() in lexicon:\n",
    "\t\t\t\t\tindex_value = lexicon.index(word.lower())\n",
    "\t\t\t\t\tfeatures[index_value] += 1\n",
    "\n",
    "\t\t\tfeatures = list(features)\n",
    "\t\t\tfeatureset.append([features,classification])\n",
    "\n",
    "\treturn featureset\n"
   ]
  },
  {
   "cell_type": "code",
   "execution_count": null,
   "metadata": {},
   "outputs": [],
   "source": [
    "def create_feature_sets_and_labels(pos,neg,test_size = 0.1):\n",
    "\tlexicon = create_lexicon(pos,neg)\n",
    "\tfeatures = []\n",
    "\tfeatures += sample_handling('pos.txt',lexicon,[1,0])\n",
    "\tfeatures += sample_handling('neg.txt',lexicon,[0,1])\n",
    "\trandom.shuffle(features)\n",
    "\tfeatures = np.array(features)\n",
    "\n",
    "\ttesting_size = int(test_size*len(features))\n",
    "\n",
    "\ttrain_x = list(features[:,0][:-testing_size])\n",
    "\ttrain_y = list(features[:,1][:-testing_size])\n",
    "\ttest_x = list(features[:,0][-testing_size:])\n",
    "\ttest_y = list(features[:,1][-testing_size:])\n",
    "\n",
    "\treturn train_x,train_y,test_x,test_y\n"
   ]
  },
  {
   "cell_type": "code",
   "execution_count": null,
   "metadata": {},
   "outputs": [],
   "source": [
    "if __name__ == '__main__':\n",
    "\ttrain_x,train_y,test_x,test_y = create_feature_sets_and_labels('/path/to/pos.txt','/path/to/neg.txt')\n",
    "\t# if you want to pickle this data:\n",
    "\twith open('/path/to/sentiment_set.pickle','wb') as f:\n",
    "\t\tpickle.dump([train_x,train_y,test_x,test_y],f)"
   ]
  },
  {
   "cell_type": "code",
   "execution_count": null,
   "metadata": {},
   "outputs": [],
   "source": []
  }
 ],
 "metadata": {
  "kernelspec": {
   "display_name": "Python 3",
   "language": "python",
   "name": "python3"
  },
  "language_info": {
   "codemirror_mode": {
    "name": "ipython",
    "version": 3
   },
   "file_extension": ".py",
   "mimetype": "text/x-python",
   "name": "python",
   "nbconvert_exporter": "python",
   "pygments_lexer": "ipython3",
   "version": "3.6.7"
  }
 },
 "nbformat": 4,
 "nbformat_minor": 2
}
